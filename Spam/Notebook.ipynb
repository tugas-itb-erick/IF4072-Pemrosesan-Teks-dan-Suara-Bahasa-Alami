{
 "cells": [
  {
   "cell_type": "markdown",
   "metadata": {},
   "source": [
    "# IF4072 Pemrosesan Teks dan Suara Bahasa Alami"
   ]
  },
  {
   "cell_type": "markdown",
   "metadata": {},
   "source": [
    "## Anggota Kelompok\n",
    "1. 13515021 Dewita Sonya Tarabunga\n",
    "2. 13515057 Erick Wijaya\n",
    "3. 13515107 Roland Hartanto"
   ]
  },
  {
   "cell_type": "markdown",
   "metadata": {},
   "source": [
    "## Import"
   ]
  },
  {
   "cell_type": "code",
   "execution_count": 1,
   "metadata": {
    "collapsed": true
   },
   "outputs": [],
   "source": [
    "import os, stat, string, re\n",
    "import pandas as pd\n",
    "import numpy as np\n",
    "import nltk\n",
    "import math\n",
    "\n",
    "from collections import Counter\n",
    "from nltk import word_tokenize, NaiveBayesClassifier, DecisionTreeClassifier, MaxentClassifier, classify\n",
    "from nltk.stem import PorterStemmer, WordNetLemmatizer\n",
    "from nltk.corpus import wordnet, stopwords"
   ]
  },
  {
   "cell_type": "markdown",
   "metadata": {},
   "source": [
    "### Load Data"
   ]
  },
  {
   "cell_type": "code",
   "execution_count": 2,
   "metadata": {
    "collapsed": true,
    "scrolled": false
   },
   "outputs": [],
   "source": [
    "def load_data(src, size):\n",
    "    emails = ['' for _ in range(size)]\n",
    "    if not os.path.exists(src):\n",
    "        os.makedirs(src)\n",
    "    files = os.listdir(src)\n",
    "    for file in files:\n",
    "        idx = file.replace('TRAIN_','').replace('.eml','').replace('TEST_', '')\n",
    "        path = os.path.join(src, file)\n",
    "        info = os.stat(path)\n",
    "        if not stat.S_ISDIR(info.st_mode):\n",
    "            fp = open(path, encoding='utf-8', errors='ignore')\n",
    "            body = fp.read()\n",
    "            fp.close()\n",
    "            \n",
    "            emails[int(idx) - 1] = body\n",
    "    return emails\n",
    "    \n",
    "labels = pd.read_csv('spam-mail.tr.label')\n",
    "labels = labels['Prediction'].tolist()\n",
    "emails = load_data('TR-extracted', 2500)\n",
    "test = load_data('TT-extracted', 1827)"
   ]
  },
  {
   "cell_type": "markdown",
   "metadata": {},
   "source": [
    "## Preprocessing"
   ]
  },
  {
   "cell_type": "markdown",
   "metadata": {},
   "source": [
    "### Remove Punctuations"
   ]
  },
  {
   "cell_type": "code",
   "execution_count": 3,
   "metadata": {
    "collapsed": true
   },
   "outputs": [],
   "source": [
    "trans = str.maketrans(string.punctuation, ' ' * len(string.punctuation))\n",
    "emails = [email.translate(trans) for email in emails]\n",
    "test = [email.translate(trans) for email in test]"
   ]
  },
  {
   "cell_type": "markdown",
   "metadata": {},
   "source": [
    "### Tokenize"
   ]
  },
  {
   "cell_type": "code",
   "execution_count": 4,
   "metadata": {
    "collapsed": true,
    "scrolled": false
   },
   "outputs": [],
   "source": [
    "tokens = [word_tokenize(email.lower()) for email in emails]\n",
    "test = [word_tokenize(email.lower()) for email in test]"
   ]
  },
  {
   "cell_type": "markdown",
   "metadata": {},
   "source": [
    "### Lemmatization"
   ]
  },
  {
   "cell_type": "code",
   "execution_count": 5,
   "metadata": {
    "collapsed": true
   },
   "outputs": [],
   "source": [
    "tagged = [nltk.pos_tag(token) for token in tokens]\n",
    "test_tagged = [nltk.pos_tag(token) for token in test]"
   ]
  },
  {
   "cell_type": "code",
   "execution_count": 6,
   "metadata": {
    "scrolled": true
   },
   "outputs": [],
   "source": [
    "def get_pos(tag):\n",
    "    if tag.startswith('J'):\n",
    "        return wordnet.ADJ\n",
    "    elif tag.startswith('V'):\n",
    "        return wordnet.VERB\n",
    "    elif tag.startswith('N'):\n",
    "        return wordnet.NOUN\n",
    "    elif tag.startswith('R'):\n",
    "        return wordnet.ADV\n",
    "    else:\n",
    "        return wordnet.NOUN\n",
    "\n",
    "lemmatizer = WordNetLemmatizer()\n",
    "tokens = [[lemmatizer.lemmatize(word[0], pos=get_pos(word[1])) for word in token] for token in tagged]\n",
    "test = [[lemmatizer.lemmatize(word[0], pos=get_pos(word[1])) for word in token] for token in test_tagged]"
   ]
  },
  {
   "cell_type": "markdown",
   "metadata": {},
   "source": [
    "## Feature Selection"
   ]
  },
  {
   "cell_type": "markdown",
   "metadata": {},
   "source": [
    "### Stop Words Elimination"
   ]
  },
  {
   "cell_type": "code",
   "execution_count": 7,
   "metadata": {
    "collapsed": true
   },
   "outputs": [],
   "source": [
    "stop_words = set(stopwords.words('english'))\n",
    "tokens = [[word for word in token if not word in stop_words] for token in tokens]\n",
    "test = [[word for word in token if not word in stop_words] for token in test]"
   ]
  },
  {
   "cell_type": "markdown",
   "metadata": {},
   "source": [
    "### Convert to Trainable Data"
   ]
  },
  {
   "cell_type": "code",
   "execution_count": 8,
   "metadata": {
    "collapsed": true
   },
   "outputs": [],
   "source": [
    "def get_features(text):\n",
    "    return {word: True for word in text}\n",
    "\n",
    "train_data = []\n",
    "idx = 0\n",
    "for email in tokens:\n",
    "    train_data.append((get_features(email), labels[idx]))\n",
    "    idx += 1\n",
    "\n",
    "test_data = []\n",
    "idx = 0\n",
    "for email in test:\n",
    "    test_data.append(get_features(email))\n",
    "    idx += 1"
   ]
  },
  {
   "cell_type": "markdown",
   "metadata": {},
   "source": [
    "## Training Model"
   ]
  },
  {
   "cell_type": "markdown",
   "metadata": {},
   "source": [
    "### Naive Bayes"
   ]
  },
  {
   "cell_type": "code",
   "execution_count": 9,
   "metadata": {
    "collapsed": true
   },
   "outputs": [],
   "source": [
    "classifierNB = NaiveBayesClassifier.train(train_data)"
   ]
  },
  {
   "cell_type": "markdown",
   "metadata": {},
   "source": [
    "### Decision Tree"
   ]
  },
  {
   "cell_type": "code",
   "execution_count": 10,
   "metadata": {},
   "outputs": [],
   "source": [
    "classifierDT = DecisionTreeClassifier.train(train_data, depth_cutoff=30)"
   ]
  },
  {
   "cell_type": "markdown",
   "metadata": {},
   "source": [
    "### Maximum Entropy"
   ]
  },
  {
   "cell_type": "code",
   "execution_count": 11,
   "metadata": {},
   "outputs": [],
   "source": [
    "classifierMaxentGIS = MaxentClassifier.train(train_data, 'GIS', trace=0, max_iter=500)"
   ]
  },
  {
   "cell_type": "markdown",
   "metadata": {},
   "source": [
    "## Classification"
   ]
  },
  {
   "cell_type": "markdown",
   "metadata": {},
   "source": [
    "### Naive Bayes"
   ]
  },
  {
   "cell_type": "code",
   "execution_count": 12,
   "metadata": {
    "collapsed": true
   },
   "outputs": [],
   "source": [
    "fp = open('answerNB.csv', 'w')\n",
    "fp.write('Id,Prediction\\n')\n",
    "\n",
    "idx = 1\n",
    "for data in test_data:\n",
    "    ans = classifierNB.classify(data)\n",
    "    fp.write(str(idx)+','+str(ans)+'\\n')\n",
    "    idx += 1\n",
    "    \n",
    "fp.close()"
   ]
  },
  {
   "cell_type": "code",
   "execution_count": 13,
   "metadata": {},
   "outputs": [
    {
     "data": {
      "text/plain": [
       "0.9636"
      ]
     },
     "execution_count": 13,
     "metadata": {},
     "output_type": "execute_result"
    }
   ],
   "source": [
    "classify.accuracy(classifierNB, train_data)"
   ]
  },
  {
   "cell_type": "markdown",
   "metadata": {},
   "source": [
    "### Decision Tree"
   ]
  },
  {
   "cell_type": "code",
   "execution_count": 14,
   "metadata": {
    "collapsed": true
   },
   "outputs": [],
   "source": [
    "fp = open('answerDT.csv', 'w')\n",
    "fp.write('Id,Prediction\\n')\n",
    "\n",
    "idx = 1\n",
    "for data in test_data:\n",
    "    ans = classifierDT.classify(data)\n",
    "    fp.write(str(idx)+','+str(ans)+'\\n')\n",
    "    idx += 1\n",
    "    \n",
    "fp.close()"
   ]
  },
  {
   "cell_type": "code",
   "execution_count": 15,
   "metadata": {},
   "outputs": [
    {
     "data": {
      "text/plain": [
       "0.9744"
      ]
     },
     "execution_count": 15,
     "metadata": {},
     "output_type": "execute_result"
    }
   ],
   "source": [
    "classify.accuracy(classifierDT, train_data)"
   ]
  },
  {
   "cell_type": "markdown",
   "metadata": {},
   "source": [
    "### Maximum Entropy"
   ]
  },
  {
   "cell_type": "code",
   "execution_count": 16,
   "metadata": {
    "collapsed": true
   },
   "outputs": [],
   "source": [
    "fp = open('answerMaxentGIS.csv', 'w')\n",
    "fp.write('Id,Prediction\\n')\n",
    "\n",
    "idx = 1\n",
    "for data in test_data:\n",
    "    ans = classifierMaxentGIS.classify(data)\n",
    "    fp.write(str(idx)+','+str(ans)+'\\n')\n",
    "    idx += 1\n",
    "    \n",
    "fp.close()"
   ]
  },
  {
   "cell_type": "code",
   "execution_count": 17,
   "metadata": {},
   "outputs": [
    {
     "data": {
      "text/plain": [
       "0.95"
      ]
     },
     "execution_count": 17,
     "metadata": {},
     "output_type": "execute_result"
    }
   ],
   "source": [
    "classify.accuracy(classifierMaxentGIS, train_data)"
   ]
  }
 ],
 "metadata": {
  "kernelspec": {
   "display_name": "Python 3",
   "language": "python",
   "name": "python3"
  },
  "language_info": {
   "codemirror_mode": {
    "name": "ipython",
    "version": 3
   },
   "file_extension": ".py",
   "mimetype": "text/x-python",
   "name": "python",
   "nbconvert_exporter": "python",
   "pygments_lexer": "ipython3",
   "version": "3.6.3"
  }
 },
 "nbformat": 4,
 "nbformat_minor": 2
}
